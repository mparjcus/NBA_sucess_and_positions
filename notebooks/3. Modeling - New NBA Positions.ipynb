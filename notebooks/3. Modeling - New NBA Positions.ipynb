{
 "cells": [
  {
   "cell_type": "code",
   "execution_count": 1,
   "metadata": {},
   "outputs": [],
   "source": [
    "import pandas as pd\n",
    "import numpy as np\n",
    "pd.set_option('display.max_columns', None)\n",
    "pd.set_option('display.max_rows', None)\n",
    "import math\n",
    "import warnings\n",
    "warnings.filterwarnings('ignore')\n",
    "from sklearn import linear_model\n",
    "from sklearn.metrics import mean_squared_error, r2_score\n",
    "from sklearn.model_selection import train_test_split\n",
    "import matplotlib.pyplot as plt\n",
    "import seaborn as sns\n",
    "\n",
    "from sklearn.manifold import TSNE\n",
    "from sklearn.cluster import KMeans\n",
    "from sklearn.decomposition import PCA\n",
    "from sklearn.preprocessing import StandardScaler\n",
    "from sklearn.discriminant_analysis import LinearDiscriminantAnalysis\n",
    "from sklearn import cluster, metrics, datasets\n",
    "\n",
    "import pickle"
   ]
  },
  {
   "cell_type": "markdown",
   "metadata": {},
   "source": [
    "## 1. Read cleaned data from previous modeling process"
   ]
  },
  {
   "cell_type": "code",
   "execution_count": 2,
   "metadata": {},
   "outputs": [],
   "source": [
    "position_model_1 = pd.read_csv(\"/Users/marcus/Documents/Projects/Final/Final_Project_NBA_Classifier/data/position_model_1.csv\")\n",
    "position_model = pd.read_csv(\"/Users/marcus/Documents/Projects/Final/Final_Project_NBA_Classifier/data/position_model.csv\")\n",
    "clean_nba = pd.read_csv(\"/Users/marcus/Documents/Projects/Final/Final_Project_NBA_Classifier/data/clean_nba.csv\")"
   ]
  },
  {
   "cell_type": "code",
   "execution_count": 3,
   "metadata": {},
   "outputs": [
    {
     "data": {
      "text/html": [
       "<div>\n",
       "<style scoped>\n",
       "    .dataframe tbody tr th:only-of-type {\n",
       "        vertical-align: middle;\n",
       "    }\n",
       "\n",
       "    .dataframe tbody tr th {\n",
       "        vertical-align: top;\n",
       "    }\n",
       "\n",
       "    .dataframe thead th {\n",
       "        text-align: right;\n",
       "    }\n",
       "</style>\n",
       "<table border=\"1\" class=\"dataframe\">\n",
       "  <thead>\n",
       "    <tr style=\"text-align: right;\">\n",
       "      <th></th>\n",
       "      <th>Pos</th>\n",
       "      <th>2PA</th>\n",
       "      <th>FTA</th>\n",
       "      <th>ORB</th>\n",
       "      <th>DRB</th>\n",
       "      <th>AST</th>\n",
       "      <th>STL</th>\n",
       "      <th>BLK</th>\n",
       "      <th>TOV</th>\n",
       "      <th>2P_3-10</th>\n",
       "      <th>2P%_0-3</th>\n",
       "      <th>3P%</th>\n",
       "      <th>2P%_asst</th>\n",
       "      <th>3P%_asst</th>\n",
       "      <th>Corner3%_3PA</th>\n",
       "    </tr>\n",
       "  </thead>\n",
       "  <tbody>\n",
       "    <tr>\n",
       "      <th>0</th>\n",
       "      <td>C</td>\n",
       "      <td>13.7</td>\n",
       "      <td>5.8</td>\n",
       "      <td>6.0</td>\n",
       "      <td>10.9</td>\n",
       "      <td>4.2</td>\n",
       "      <td>1.5</td>\n",
       "      <td>1.9</td>\n",
       "      <td>2.7</td>\n",
       "      <td>0.397</td>\n",
       "      <td>0.743</td>\n",
       "      <td>0.333</td>\n",
       "      <td>0.670</td>\n",
       "      <td>1.000</td>\n",
       "      <td>0.333</td>\n",
       "    </tr>\n",
       "    <tr>\n",
       "      <th>1</th>\n",
       "      <td>PF</td>\n",
       "      <td>15.7</td>\n",
       "      <td>7.7</td>\n",
       "      <td>3.6</td>\n",
       "      <td>11.3</td>\n",
       "      <td>7.4</td>\n",
       "      <td>1.7</td>\n",
       "      <td>1.9</td>\n",
       "      <td>4.1</td>\n",
       "      <td>0.301</td>\n",
       "      <td>0.726</td>\n",
       "      <td>0.143</td>\n",
       "      <td>0.715</td>\n",
       "      <td>0.500</td>\n",
       "      <td>0.571</td>\n",
       "    </tr>\n",
       "    <tr>\n",
       "      <th>2</th>\n",
       "      <td>C</td>\n",
       "      <td>17.3</td>\n",
       "      <td>5.2</td>\n",
       "      <td>2.8</td>\n",
       "      <td>7.9</td>\n",
       "      <td>3.5</td>\n",
       "      <td>1.0</td>\n",
       "      <td>2.4</td>\n",
       "      <td>2.0</td>\n",
       "      <td>0.129</td>\n",
       "      <td>0.719</td>\n",
       "      <td>0.389</td>\n",
       "      <td>0.567</td>\n",
       "      <td>0.951</td>\n",
       "      <td>0.185</td>\n",
       "    </tr>\n",
       "    <tr>\n",
       "      <th>3</th>\n",
       "      <td>SG</td>\n",
       "      <td>10.4</td>\n",
       "      <td>2.9</td>\n",
       "      <td>0.7</td>\n",
       "      <td>5.9</td>\n",
       "      <td>7.0</td>\n",
       "      <td>1.3</td>\n",
       "      <td>0.6</td>\n",
       "      <td>4.2</td>\n",
       "      <td>0.173</td>\n",
       "      <td>0.523</td>\n",
       "      <td>0.346</td>\n",
       "      <td>0.192</td>\n",
       "      <td>0.913</td>\n",
       "      <td>0.188</td>\n",
       "    </tr>\n",
       "    <tr>\n",
       "      <th>4</th>\n",
       "      <td>SG</td>\n",
       "      <td>7.2</td>\n",
       "      <td>2.9</td>\n",
       "      <td>0.5</td>\n",
       "      <td>5.0</td>\n",
       "      <td>3.4</td>\n",
       "      <td>0.7</td>\n",
       "      <td>0.1</td>\n",
       "      <td>2.1</td>\n",
       "      <td>0.179</td>\n",
       "      <td>0.711</td>\n",
       "      <td>0.404</td>\n",
       "      <td>0.600</td>\n",
       "      <td>0.982</td>\n",
       "      <td>0.255</td>\n",
       "    </tr>\n",
       "  </tbody>\n",
       "</table>\n",
       "</div>"
      ],
      "text/plain": [
       "  Pos   2PA  FTA  ORB   DRB  AST  STL  BLK  TOV  2P_3-10  2P%_0-3    3P%  \\\n",
       "0   C  13.7  5.8  6.0  10.9  4.2  1.5  1.9  2.7    0.397    0.743  0.333   \n",
       "1  PF  15.7  7.7  3.6  11.3  7.4  1.7  1.9  4.1    0.301    0.726  0.143   \n",
       "2   C  17.3  5.2  2.8   7.9  3.5  1.0  2.4  2.0    0.129    0.719  0.389   \n",
       "3  SG  10.4  2.9  0.7   5.9  7.0  1.3  0.6  4.2    0.173    0.523  0.346   \n",
       "4  SG   7.2  2.9  0.5   5.0  3.4  0.7  0.1  2.1    0.179    0.711  0.404   \n",
       "\n",
       "   2P%_asst  3P%_asst  Corner3%_3PA  \n",
       "0     0.670     1.000         0.333  \n",
       "1     0.715     0.500         0.571  \n",
       "2     0.567     0.951         0.185  \n",
       "3     0.192     0.913         0.188  \n",
       "4     0.600     0.982         0.255  "
      ]
     },
     "execution_count": 3,
     "metadata": {},
     "output_type": "execute_result"
    }
   ],
   "source": [
    "position_model_1.head()"
   ]
  },
  {
   "cell_type": "markdown",
   "metadata": {},
   "source": [
    "## 2. X/Y Split, Scalinf and save scaler as pickle"
   ]
  },
  {
   "cell_type": "code",
   "execution_count": 4,
   "metadata": {},
   "outputs": [],
   "source": [
    "X = position_model_1.drop([\"Pos\"], axis=1)\n",
    "y = position_model_1['Pos']\n",
    "\n",
    "scaler = StandardScaler()\n",
    "X_scaled = scaler.fit_transform(X)\n",
    "X_scaled = pd.DataFrame(data = X_scaled,columns = X.columns)\n",
    "pickle.dump(scaler, open(\"/Users/marcus/Documents/Projects/Final/Final_Project_NBA_Classifier/pickle/scaler\", \"wb\"))"
   ]
  },
  {
   "cell_type": "markdown",
   "metadata": {},
   "source": [
    "## 3. Defining functions for clustering"
   ]
  },
  {
   "cell_type": "code",
   "execution_count": 11,
   "metadata": {},
   "outputs": [],
   "source": [
    "def kmeans(reduced_data, n_clusters):\n",
    "    \"\"\"\n",
    "    performs kmeans clustering and returns labels, centroids, inertia, and silhouette score\n",
    "    \"\"\"\n",
    "    kmeans = cluster.KMeans(n_clusters=n_clusters, random_state=42)\n",
    "    kmeans = kmeans.fit(reduced_data)\n",
    "    labels = kmeans.labels_\n",
    "    centroids = kmeans.cluster_centers_\n",
    "    inertia = kmeans.inertia_\n",
    "    sil_score = metrics.silhouette_score(reduced_data, kmeans.labels_, metric='euclidean')\n",
    "\n",
    "    data_dictionary = {\n",
    "        \"labels\": labels,\n",
    "        \"centroids\": centroids,\n",
    "        \"inertia\" : inertia,\n",
    "        \"silhouette_score\": sil_score\n",
    "    }\n",
    "    pickle.dump(kmeans, open(\"/Users/marcus/Documents/Projects/Final/Final_Project_NBA_Classifier/pickle/kmeans\", \"wb\"))\n",
    "\n",
    "    return data_dictionary\n",
    "\n",
    "def find_best_cluster(data,a,b):\n",
    "    \"\"\"\n",
    "    plots and finds the best silhouette score for range(a,b)\n",
    "    \"\"\"\n",
    "    scores = []\n",
    "    for i in range(a,b):\n",
    "        i_clusters = kmeans(data, i)\n",
    "        sil_score_i = i_clusters['silhouette_score']\n",
    "        scores.append(sil_score_i)\n",
    "\n",
    "    sns.set_context('poster', font_scale=1)\n",
    "    plt.plot(range(a,b), scores)\n",
    "    plt.xticks([5, 6, 7, 8, 9, 10, 11, 12])\n",
    "    plt.title(\"\"\"Measuring Silhouette Score to Find Best Cluster\"\"\")\n",
    "    print (\"best silhouette score:\", np.max(scores))\n",
    "    \n",
    "def feature_importance(cluster_data, league_data):\n",
    "    \"\"\"\n",
    "    takes reduced data,\n",
    "    performs Principal Component Analysis,\n",
    "    returns feature importance dataframe\n",
    "    \"\"\"\n",
    "    scaler = StandardScaler()\n",
    "    scaled_data = scaler.fit_transform(cluster_data)\n",
    "\n",
    "    pca = PCA(n_components=2)\n",
    "    PCA_reduced_df = pca.fit(scaled_data).transform(scaled_data)\n",
    "\n",
    "    features = pd.DataFrame(zip(cluster_data.columns, pca.components_[0], np.mean(cluster_data), np.mean(league_data)),\n",
    "        columns=['Feature', 'Importance', 'Cluster Average', 'League Average']).sort_values('Importance', ascending=False).head(10)\n",
    "\n",
    "    return features"
   ]
  },
  {
   "cell_type": "markdown",
   "metadata": {},
   "source": [
    "## 4. Clustering"
   ]
  },
  {
   "cell_type": "markdown",
   "metadata": {},
   "source": [
    "Find best cluster"
   ]
  },
  {
   "cell_type": "code",
   "execution_count": 12,
   "metadata": {},
   "outputs": [
    {
     "name": "stdout",
     "output_type": "stream",
     "text": [
      "best silhouette score: 0.15795618827181926\n"
     ]
    },
    {
     "data": {
      "image/png": "[encoded data removed]",
      "text/plain": [
       "<Figure size 432x288 with 1 Axes>"
      ]
     },
     "metadata": {
      "needs_background": "light"
     },
     "output_type": "display_data"
    }
   ],
   "source": [
    "find_best_cluster(X_scaled,5,20)"
   ]
  },
  {
   "cell_type": "markdown",
   "metadata": {},
   "source": [
    "Run k_means with 10 clusters"
   ]
  },
  {
   "cell_type": "code",
   "execution_count": 13,
   "metadata": {},
   "outputs": [],
   "source": [
    "kmeans = kmeans(X_scaled, 10)"
   ]
  },
  {
   "cell_type": "code",
   "execution_count": 14,
   "metadata": {},
   "outputs": [
    {
     "name": "stdout",
     "output_type": "stream",
     "text": [
      "silhouette score: 0.12801684756143905\n"
     ]
    }
   ],
   "source": [
    "# Assign labels\n",
    "clean_nba['Cluster'] = kmeans['labels']\n",
    "\n",
    "# Print silhouette score\n",
    "print (\"silhouette score:\", kmeans['silhouette_score'])"
   ]
  },
  {
   "cell_type": "markdown",
   "metadata": {},
   "source": [
    "## 5. Analyzing clusters"
   ]
  },
  {
   "cell_type": "markdown",
   "metadata": {},
   "source": [
    "Feature importance"
   ]
  },
  {
   "cell_type": "code",
   "execution_count": 19,
   "metadata": {},
   "outputs": [
    {
     "name": "stdout",
     "output_type": "stream",
     "text": [
      "Cluster number is  0\n",
      "          Feature  Importance  Cluster Average  League Average\n",
      "0            DRtg    0.241347       108.461538      111.160083\n",
      "1  avg_shoot_dist    0.226671         4.038462       13.785031\n",
      "2        2P_10-16    0.195314         0.061692        0.078470\n",
      "3          3P_FGA    0.168004         0.014769        0.396848\n",
      "4         2P_3-10    0.166226         0.240115        0.162189\n",
      "5       2P%_16-3P    0.162876         0.284885        0.346347\n",
      "6              PF    0.155042         6.169231        4.393139\n",
      "7    Corner3%_3PA    0.146547         0.170500        0.245435\n",
      "8             TOV    0.121001         2.542308        2.631393\n",
      "9        2P_16-3P    0.119273         0.035231        0.066044\n",
      "Cluster number is  1\n",
      "  Feature  Importance  Cluster Average  League Average\n",
      "0      2P    0.301067         5.500000        5.229938\n",
      "1     2PA    0.297914        10.606061       10.008108\n",
      "2  2P_FGA    0.272805         0.690879        0.603154\n",
      "3      FG    0.246757         7.000000        7.511435\n",
      "4     PTS    0.233346        18.442424       20.430561\n",
      "5     FG%    0.224434         0.455758        0.456491\n",
      "6     FTA    0.211304         4.096970        4.120374\n",
      "7     TRB    0.206010         9.109091        8.905198\n",
      "8      FT    0.199086         2.939394        3.127859\n",
      "9     FGA    0.197533        15.266667       16.521622\n",
      "Cluster number is  2\n",
      "        Feature  Importance  Cluster Average  League Average\n",
      "0        2P_FGA    0.351579         0.585274        0.603154\n",
      "1        2P_0-3    0.245383         0.221238        0.296435\n",
      "2       2P_3-10    0.207264         0.158548        0.162189\n",
      "3            2P    0.192117         5.071429        5.229938\n",
      "4           2PA    0.181421        10.736905       10.008108\n",
      "5      2P_10-16    0.173269         0.114821        0.078470\n",
      "6           FG%    0.151067         0.422464        0.456491\n",
      "7  Corner3%_3PA    0.150789         0.176167        0.245435\n",
      "8           ORB    0.148364         1.059524        2.089605\n",
      "9           TRB    0.129104         5.903571        8.905198\n",
      "Cluster number is  3\n",
      "        Feature  Importance  Cluster Average  League Average\n",
      "0        2P_0-3    0.293274         0.217000        0.296435\n",
      "1        2P_FGA    0.285748         0.414364        0.603154\n",
      "2    Dunks%_FGA    0.254490         0.049818        0.066800\n",
      "3            2P    0.235739         3.050505        5.229938\n",
      "4  Corner3%_3PA    0.209261         0.336667        0.245435\n",
      "5           FG%    0.200521         0.434081        0.456491\n",
      "6           2PA    0.195727         5.596970       10.008108\n",
      "7       2P_3-10    0.193412         0.096394        0.162189\n",
      "8           ORB    0.174325         1.516162        2.089605\n",
      "9           2P%    0.151589         0.546061        0.519401\n",
      "Cluster number is  4\n",
      "          Feature  Importance  Cluster Average  League Average\n",
      "0             FGA    0.263611        19.610714       16.521622\n",
      "1             PTS    0.259687        26.521429       20.430561\n",
      "2             3PA    0.251775         3.035714        6.515800\n",
      "3  avg_shoot_dist    0.243678         7.835714       13.785031\n",
      "4              3P    0.243349         0.932143        2.280042\n",
      "5              FG    0.231597        10.307143        7.511435\n",
      "6          3P_FGA    0.209426         0.144393        0.396848\n",
      "7              FT    0.207769         4.964286        3.127859\n",
      "8        2P_16-3P    0.198538         0.051536        0.066044\n",
      "9             FTA    0.181810         7.010714        4.120374\n",
      "Cluster number is  5\n",
      "        Feature  Importance  Cluster Average  League Average\n",
      "0        2P_FGA    0.279124         0.724429        0.603154\n",
      "1           FG%    0.275183         0.522976        0.456491\n",
      "2        2P_0-3    0.272489         0.428024        0.296435\n",
      "3           2P%    0.243993         0.592857        0.519401\n",
      "4    Dunks%_FGA    0.238538         0.165714        0.066800\n",
      "5          ORtg    0.201098       114.761905      109.960499\n",
      "6  Corner3%_3PA    0.189958         0.302595        0.245435\n",
      "7            2P    0.180500         6.442857        5.229938\n",
      "8      2P%_asst    0.156265         0.720929        0.543272\n",
      "9           ORB    0.148957         3.735714        2.089605\n",
      "Cluster number is  6\n",
      "          Feature  Importance  Cluster Average  League Average\n",
      "0          3P_FGA    0.308048         0.567333        0.396848\n",
      "1  avg_shoot_dist    0.278547        17.509091       13.785031\n",
      "2            ORtg    0.238589       103.212121      109.960499\n",
      "3              3P    0.233041         2.800000        2.280042\n",
      "4        Corner3%    0.211279         0.381697        0.350291\n",
      "5             3PA    0.197134         7.733333        6.515800\n",
      "6             3P%    0.173521         0.355333        0.322657\n",
      "7        2P%_asst    0.170588         0.552727        0.543272\n",
      "8             FG%    0.154882         0.386212        0.456491\n",
      "9       2P%_16-3P    0.141971         0.353879        0.346347\n",
      "Cluster number is  7\n",
      "        Feature  Importance  Cluster Average  League Average\n",
      "0        2P_0-3    0.194027         0.247920        0.296435\n",
      "1            PF    0.153954         4.100000        4.393139\n",
      "2           ORB    0.145098         1.594318        2.089605\n",
      "3  Corner3%_3PA    0.143109         0.236989        0.245435\n",
      "4       2P_3-10    0.135797         0.162205        0.162189\n",
      "5           BLK    0.129884         0.675000        1.012474\n",
      "6      3P%_asst    0.112889         0.908352        0.814168\n",
      "7        2P_FGA    0.088051         0.565307        0.603154\n",
      "8    Dunks%_FGA    0.082521         0.040386        0.066800\n",
      "9           TRB    0.067072         8.105682        8.905198\n",
      "Cluster number is  8\n",
      "          Feature  Importance  Cluster Average  League Average\n",
      "0          3P_FGA    0.171221         0.351452        0.396848\n",
      "1  avg_shoot_dist    0.148351        14.083333       13.785031\n",
      "2              PF    0.137740         3.326190        4.393139\n",
      "3             STL    0.127596         1.700000        1.507484\n",
      "4             TOV    0.073038         4.347619        2.631393\n",
      "5             3PA    0.064049         8.557143        6.515800\n",
      "6       2P%_16-3P    0.035563         0.416524        0.346347\n",
      "7              3P    0.015865         2.973810        2.280042\n",
      "8             BLK   -0.004599         0.597619        1.012474\n",
      "9        2P_16-3P   -0.008699         0.094476        0.066044\n",
      "Cluster number is  9\n",
      "      Feature  Importance  Cluster Average  League Average\n",
      "0      2P_0-3    0.263889         0.650833        0.296435\n",
      "1  Dunks%_FGA    0.235839         0.268500        0.066800\n",
      "2          PF    0.231094         6.950000        4.393139\n",
      "3         2P%    0.228076         0.646667        0.519401\n",
      "4         FG%    0.225947         0.648167        0.456491\n",
      "5         STL    0.201016         0.950000        1.507484\n",
      "6     2P%_0-3    0.185604         0.748833        0.651915\n",
      "7        ORtg    0.121412       124.666667      109.960499\n",
      "8         ORB    0.086429         6.233333        2.089605\n",
      "9         FTA    0.055119         5.033333        4.120374\n"
     ]
    }
   ],
   "source": [
    "list_clusters = [0,1,2,3,4,5,6,7,8,9]\n",
    "\n",
    "for i in list_clusters:\n",
    "    mask = (clean_nba['Cluster'] == i)\n",
    "    cluster_data = clean_nba[mask].drop(['player_new', 'Pos','Tm', 'Cluster'], axis=1)\n",
    "    league_data = clean_nba.drop(['player_new', 'Pos','Tm', 'Cluster'], axis=1)\n",
    "    print(\"Cluster number is \", i)\n",
    "    print(feature_importance(cluster_data, league_data).reset_index().drop('index', axis=1))"
   ]
  },
  {
   "cell_type": "markdown",
   "metadata": {},
   "source": [
    "Distribution of traditional positions among clusters."
   ]
  },
  {
   "cell_type": "code",
   "execution_count": 21,
   "metadata": {},
   "outputs": [
    {
     "name": "stdout",
     "output_type": "stream",
     "text": [
      "Cluster:  0\n",
      "C     23\n",
      "PF     3\n",
      "Name: Pos, dtype: int64\n",
      "26\n",
      "Cluster:  1\n",
      "SF    10\n",
      "SG     7\n",
      "PG     7\n",
      "PF     7\n",
      "C      2\n",
      "Name: Pos, dtype: int64\n",
      "33\n",
      "Cluster:  2\n",
      "PG    44\n",
      "SG    33\n",
      "SF     6\n",
      "PF     1\n",
      "Name: Pos, dtype: int64\n",
      "84\n",
      "Cluster:  3\n",
      "PF    34\n",
      "SF    33\n",
      "SG    26\n",
      "C      5\n",
      "PG     1\n",
      "Name: Pos, dtype: int64\n",
      "99\n",
      "Cluster:  4\n",
      "C     18\n",
      "PF     9\n",
      "SG     1\n",
      "Name: Pos, dtype: int64\n",
      "28\n",
      "Cluster:  5\n",
      "C     36\n",
      "PF     5\n",
      "SF     1\n",
      "Name: Pos, dtype: int64\n",
      "42\n",
      "Cluster:  6\n",
      "SF    16\n",
      "PF    10\n",
      "SG     4\n",
      "PG     3\n",
      "Name: Pos, dtype: int64\n",
      "33\n",
      "Cluster:  7\n",
      "SG    30\n",
      "PF    30\n",
      "SF    19\n",
      "C      6\n",
      "PG     3\n",
      "Name: Pos, dtype: int64\n",
      "88\n",
      "Cluster:  8\n",
      "PG    25\n",
      "SG     7\n",
      "SF     6\n",
      "PF     4\n",
      "Name: Pos, dtype: int64\n",
      "42\n",
      "Cluster:  9\n",
      "C    6\n",
      "Name: Pos, dtype: int64\n",
      "6\n"
     ]
    }
   ],
   "source": [
    "list_clusters = [0,1,2,3,4,5,6,7,8,9]\n",
    "\n",
    "for i in list_clusters:\n",
    "    mask = (clean_nba['Cluster'] == i)\n",
    "    print(\"Cluster: \", i)\n",
    "    print(clean_nba[mask][\"Pos\"].value_counts())\n",
    "    print (len(clean_nba[mask].value_counts()))\n"
   ]
  },
  {
   "cell_type": "markdown",
   "metadata": {},
   "source": [
    "## 6. Naming clusters"
   ]
  },
  {
   "cell_type": "code",
   "execution_count": 22,
   "metadata": {},
   "outputs": [],
   "source": [
    "clean_nba['Cluster_name'] = clean_nba['Cluster'].map({0: 'Just_Big',\n",
    "                                 1: 'Def Driving Shot Creator',\n",
    "                                 2: 'Spot Up Facilitator',\n",
    "                                 3: 'Spot Up Wing',\n",
    "                                 4: 'Facilitating/Midrange Big',\n",
    "                                 5: 'Sharp-Shooting Big',\n",
    "                                 6: 'Rotational',\n",
    "                                 7: 'Midrange Shooter',\n",
    "                                 8: 'Attacking Facilitator',\n",
    "                                 9: 'Dirty-Work'})\n"
   ]
  },
  {
   "cell_type": "markdown",
   "metadata": {},
   "source": [
    "## 7. Save player data with assigned clusters"
   ]
  },
  {
   "cell_type": "code",
   "execution_count": 23,
   "metadata": {},
   "outputs": [],
   "source": [
    "clean_nba.to_csv(r'/Users/marcus/Documents/Projects/Final/Final_Project_NBA_Classifier/data/clean_nba_cluster.csv', index = False)"
   ]
  },
  {
   "cell_type": "code",
   "execution_count": null,
   "metadata": {},
   "outputs": [],
   "source": []
  },
  {
   "cell_type": "code",
   "execution_count": null,
   "metadata": {},
   "outputs": [],
   "source": []
  }
 ],
 "metadata": {
  "kernelspec": {
   "display_name": "Python 3",
   "language": "python",
   "name": "python3"
  },
  "language_info": {
   "codemirror_mode": {
    "name": "ipython",
    "version": 3
   },
   "file_extension": ".py",
   "mimetype": "text/x-python",
   "name": "python",
   "nbconvert_exporter": "python",
   "pygments_lexer": "ipython3",
   "version": "3.8.5"
  }
 },
 "nbformat": 4,
 "nbformat_minor": 4
}
