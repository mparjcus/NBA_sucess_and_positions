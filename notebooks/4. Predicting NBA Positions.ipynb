{
 "cells": [
  {
   "cell_type": "code",
   "execution_count": 1,
   "metadata": {},
   "outputs": [],
   "source": [
    "import pandas as pd\n",
    "import pickle\n",
    "from sklearn.cluster import KMeans\n",
    "from sklearn.decomposition import PCA\n",
    "from sklearn.preprocessing import StandardScaler"
   ]
  },
  {
   "cell_type": "markdown",
   "metadata": {},
   "source": [
    "## 1.Load pickles of initial clustering and test-dataset"
   ]
  },
  {
   "cell_type": "code",
   "execution_count": 2,
   "metadata": {},
   "outputs": [],
   "source": [
    "scaler = pickle.load(open(\"/Users/marcus/Documents/Projects/Final/Final_Project_NBA_Classifier/pickle/scaler\", \"rb\"))\n",
    "kmeans = pickle.load(open(\"/Users/marcus/Documents/Projects/Final/Final_Project_NBA_Classifier/pickle/kmeans\", \"rb\"))"
   ]
  },
  {
   "cell_type": "code",
   "execution_count": 3,
   "metadata": {},
   "outputs": [],
   "source": [
    "test_position_model_1 = pd.read_csv(\"/Users/marcus/Documents/Projects/Final/Final_Project_NBA_Classifier/data/test_position_model_1.csv\")\n",
    "test_clean_nba = pd.read_csv(\"/Users/marcus/Documents/Projects/Final/Final_Project_NBA_Classifier/data/test_clean_nba.csv\")\n",
    "clean_nba = pd.read_csv(\"/Users/marcus/Documents/Projects/Final/Final_Project_NBA_Classifier/data/clean_nba_cluster.csv\")"
   ]
  },
  {
   "cell_type": "code",
   "execution_count": 16,
   "metadata": {},
   "outputs": [
    {
     "data": {
      "text/plain": [
       "Index(['Pos', '2PA', 'FTA', 'ORB', 'DRB', 'AST', 'STL', 'BLK', 'TOV',\n",
       "       '2P_3-10', '2P%_0-3', '3P%', '2P%_asst', '3P%_asst', 'Corner3%_3PA',\n",
       "       'Clusters'],\n",
       "      dtype='object')"
      ]
     },
     "execution_count": 16,
     "metadata": {},
     "output_type": "execute_result"
    }
   ],
   "source": [
    "test_position_model_1.columns"
   ]
  },
  {
   "cell_type": "markdown",
   "metadata": {},
   "source": [
    "## 2. Apply clustering to test-dataset (Season 17/18)"
   ]
  },
  {
   "cell_type": "code",
   "execution_count": 4,
   "metadata": {},
   "outputs": [],
   "source": [
    "# X/Y split\n",
    "X = test_position_model_1.drop([\"Pos\"], axis=1) \n",
    "y = test_position_model_1['Pos']\n",
    "\n",
    "# Apply scaler and kmeans\n",
    "X_scaled = scaler.transform(X)\n",
    "clusters = kmeans.predict(X_scaled)\n",
    "\n",
    "# Assign cluster to test datset(Season 18/19) and to the full dataset of 18/19\n",
    "test_position_model_1[\"Clusters\"] = clusters\n",
    "test_clean_nba['Cluster'] = clusters\n",
    "\n",
    "# Assign cluster names\n",
    "test_clean_nba['Cluster_name'] = test_clean_nba['Cluster'].map({0: 'Just_Big',\n",
    "                                 1: 'Def Driving Shot Creator',\n",
    "                                 2: 'Spot Up Facilitator',\n",
    "                                 3: 'Spot Up Wing',\n",
    "                                 4: 'Facilitating/Midrange Big',\n",
    "                                 5: 'Sharp-Shooting Big',\n",
    "                                 6: 'Rotational',\n",
    "                                 7: 'Midrange Shooter',\n",
    "                                 8: 'Attacking Facilitator',\n",
    "                                 9: 'Dirty-Work'})"
   ]
  },
  {
   "cell_type": "markdown",
   "metadata": {},
   "source": [
    "## 3. Distribution of clusters among top teams of 17/18 and 19/20"
   ]
  },
  {
   "cell_type": "code",
   "execution_count": 5,
   "metadata": {},
   "outputs": [],
   "source": [
    "# Via Basketball reference I took the top 4 teams of each year and added it to the list\n",
    "list_topteams_18 = [\"GSW\", \"CLE\", \"BOS\", \"HOU\"]\n",
    "list_topteams_19 = [\"LAL\", \"MIA\", \"BOS\", \"DEN\"]"
   ]
  },
  {
   "cell_type": "markdown",
   "metadata": {},
   "source": [
    "Top Teams 2018 (Clustering)"
   ]
  },
  {
   "cell_type": "code",
   "execution_count": 6,
   "metadata": {},
   "outputs": [],
   "source": [
    "cluster_dist_18 = test_clean_nba.groupby('Tm')[\"Cluster_name\"].value_counts(dropna=False).sort_index(ascending=True)\n",
    "cluster_frame_18 = cluster_dist_18.to_frame()\n",
    "cluster_frame_18 = cluster_frame_18.rename(columns={'Cluster_name': \"count\"})\n",
    "cluster_frame_18 = cluster_frame_18.reset_index()\n",
    "top_teams_18 = cluster_frame_18[cluster_frame_18['Tm'].isin(list_topteams_18)]"
   ]
  },
  {
   "cell_type": "markdown",
   "metadata": {},
   "source": [
    "Top Teams 2019 (Clustering)"
   ]
  },
  {
   "cell_type": "code",
   "execution_count": 7,
   "metadata": {},
   "outputs": [],
   "source": [
    "cluster_dist_19 = clean_nba.groupby('Tm')[\"Cluster_name\"].value_counts(dropna=False).sort_index(ascending=True)\n",
    "cluster_frame_19 = cluster_dist_19.to_frame()\n",
    "cluster_frame_19 = cluster_frame_19.rename(columns={'Cluster_name': \"count\"})\n",
    "cluster_frame_19 = cluster_frame_19.reset_index()\n",
    "top_teams_19 = cluster_frame_19[cluster_frame_19['Tm'].isin(list_topteams_19)]"
   ]
  },
  {
   "cell_type": "markdown",
   "metadata": {},
   "source": [
    "Pivot both tables and concatenate the top teams of both years"
   ]
  },
  {
   "cell_type": "code",
   "execution_count": 8,
   "metadata": {},
   "outputs": [
    {
     "data": {
      "text/html": [
       "<div>\n",
       "<style scoped>\n",
       "    .dataframe tbody tr th:only-of-type {\n",
       "        vertical-align: middle;\n",
       "    }\n",
       "\n",
       "    .dataframe tbody tr th {\n",
       "        vertical-align: top;\n",
       "    }\n",
       "\n",
       "    .dataframe thead th {\n",
       "        text-align: right;\n",
       "    }\n",
       "</style>\n",
       "<table border=\"1\" class=\"dataframe\">\n",
       "  <thead>\n",
       "    <tr style=\"text-align: right;\">\n",
       "      <th></th>\n",
       "      <th>Attacking Facilitator</th>\n",
       "      <th>Def Driving Shot Creator</th>\n",
       "      <th>Dirty-Work</th>\n",
       "      <th>Facilitating/Midrange Big</th>\n",
       "      <th>Just_Big</th>\n",
       "      <th>Midrange Shooter</th>\n",
       "      <th>Rotational</th>\n",
       "      <th>Sharp-Shooting Big</th>\n",
       "      <th>Spot Up Facilitator</th>\n",
       "      <th>Spot Up Wing</th>\n",
       "    </tr>\n",
       "    <tr>\n",
       "      <th>Tm</th>\n",
       "      <th></th>\n",
       "      <th></th>\n",
       "      <th></th>\n",
       "      <th></th>\n",
       "      <th></th>\n",
       "      <th></th>\n",
       "      <th></th>\n",
       "      <th></th>\n",
       "      <th></th>\n",
       "      <th></th>\n",
       "    </tr>\n",
       "  </thead>\n",
       "  <tbody>\n",
       "    <tr>\n",
       "      <th>BOS</th>\n",
       "      <td>2.0</td>\n",
       "      <td>0.0</td>\n",
       "      <td>0.0</td>\n",
       "      <td>1.0</td>\n",
       "      <td>1.0</td>\n",
       "      <td>3.0</td>\n",
       "      <td>0.0</td>\n",
       "      <td>1.0</td>\n",
       "      <td>3.0</td>\n",
       "      <td>2.0</td>\n",
       "    </tr>\n",
       "    <tr>\n",
       "      <th>DEN</th>\n",
       "      <td>0.0</td>\n",
       "      <td>1.0</td>\n",
       "      <td>0.0</td>\n",
       "      <td>1.0</td>\n",
       "      <td>1.0</td>\n",
       "      <td>2.0</td>\n",
       "      <td>1.0</td>\n",
       "      <td>1.0</td>\n",
       "      <td>4.0</td>\n",
       "      <td>2.0</td>\n",
       "    </tr>\n",
       "    <tr>\n",
       "      <th>LAL</th>\n",
       "      <td>1.0</td>\n",
       "      <td>1.0</td>\n",
       "      <td>2.0</td>\n",
       "      <td>1.0</td>\n",
       "      <td>0.0</td>\n",
       "      <td>1.0</td>\n",
       "      <td>0.0</td>\n",
       "      <td>0.0</td>\n",
       "      <td>2.0</td>\n",
       "      <td>5.0</td>\n",
       "    </tr>\n",
       "    <tr>\n",
       "      <th>MIA</th>\n",
       "      <td>2.0</td>\n",
       "      <td>0.0</td>\n",
       "      <td>0.0</td>\n",
       "      <td>2.0</td>\n",
       "      <td>0.0</td>\n",
       "      <td>2.0</td>\n",
       "      <td>1.0</td>\n",
       "      <td>1.0</td>\n",
       "      <td>1.0</td>\n",
       "      <td>5.0</td>\n",
       "    </tr>\n",
       "    <tr>\n",
       "      <th>BOS</th>\n",
       "      <td>1.0</td>\n",
       "      <td>0.0</td>\n",
       "      <td>0.0</td>\n",
       "      <td>0.0</td>\n",
       "      <td>1.0</td>\n",
       "      <td>4.0</td>\n",
       "      <td>2.0</td>\n",
       "      <td>2.0</td>\n",
       "      <td>3.0</td>\n",
       "      <td>0.0</td>\n",
       "    </tr>\n",
       "    <tr>\n",
       "      <th>CLE</th>\n",
       "      <td>4.0</td>\n",
       "      <td>0.0</td>\n",
       "      <td>0.0</td>\n",
       "      <td>0.0</td>\n",
       "      <td>1.0</td>\n",
       "      <td>2.0</td>\n",
       "      <td>1.0</td>\n",
       "      <td>2.0</td>\n",
       "      <td>2.0</td>\n",
       "      <td>6.0</td>\n",
       "    </tr>\n",
       "    <tr>\n",
       "      <th>GSW</th>\n",
       "      <td>2.0</td>\n",
       "      <td>1.0</td>\n",
       "      <td>0.0</td>\n",
       "      <td>0.0</td>\n",
       "      <td>3.0</td>\n",
       "      <td>1.0</td>\n",
       "      <td>0.0</td>\n",
       "      <td>3.0</td>\n",
       "      <td>1.0</td>\n",
       "      <td>3.0</td>\n",
       "    </tr>\n",
       "    <tr>\n",
       "      <th>HOU</th>\n",
       "      <td>2.0</td>\n",
       "      <td>0.0</td>\n",
       "      <td>0.0</td>\n",
       "      <td>0.0</td>\n",
       "      <td>2.0</td>\n",
       "      <td>2.0</td>\n",
       "      <td>1.0</td>\n",
       "      <td>1.0</td>\n",
       "      <td>0.0</td>\n",
       "      <td>4.0</td>\n",
       "    </tr>\n",
       "  </tbody>\n",
       "</table>\n",
       "</div>"
      ],
      "text/plain": [
       "     Attacking Facilitator  Def Driving Shot Creator  Dirty-Work  \\\n",
       "Tm                                                                 \n",
       "BOS                    2.0                       0.0         0.0   \n",
       "DEN                    0.0                       1.0         0.0   \n",
       "LAL                    1.0                       1.0         2.0   \n",
       "MIA                    2.0                       0.0         0.0   \n",
       "BOS                    1.0                       0.0         0.0   \n",
       "CLE                    4.0                       0.0         0.0   \n",
       "GSW                    2.0                       1.0         0.0   \n",
       "HOU                    2.0                       0.0         0.0   \n",
       "\n",
       "     Facilitating/Midrange Big  Just_Big  Midrange Shooter  Rotational  \\\n",
       "Tm                                                                       \n",
       "BOS                        1.0       1.0               3.0         0.0   \n",
       "DEN                        1.0       1.0               2.0         1.0   \n",
       "LAL                        1.0       0.0               1.0         0.0   \n",
       "MIA                        2.0       0.0               2.0         1.0   \n",
       "BOS                        0.0       1.0               4.0         2.0   \n",
       "CLE                        0.0       1.0               2.0         1.0   \n",
       "GSW                        0.0       3.0               1.0         0.0   \n",
       "HOU                        0.0       2.0               2.0         1.0   \n",
       "\n",
       "     Sharp-Shooting Big  Spot Up Facilitator  Spot Up Wing  \n",
       "Tm                                                          \n",
       "BOS                 1.0                  3.0           2.0  \n",
       "DEN                 1.0                  4.0           2.0  \n",
       "LAL                 0.0                  2.0           5.0  \n",
       "MIA                 1.0                  1.0           5.0  \n",
       "BOS                 2.0                  3.0           0.0  \n",
       "CLE                 2.0                  2.0           6.0  \n",
       "GSW                 3.0                  1.0           3.0  \n",
       "HOU                 1.0                  0.0           4.0  "
      ]
     },
     "execution_count": 8,
     "metadata": {},
     "output_type": "execute_result"
    }
   ],
   "source": [
    "cluster_18 = top_teams_18.pivot(index = 'Tm', columns = 'Cluster_name', values = 'count')\n",
    "cluster_19 = top_teams_19.pivot(index = 'Tm', columns = 'Cluster_name', values = 'count')\n",
    "top_teams_18_19 = pd.concat([cluster_19, cluster_18], axis=0)\n",
    "top_teams_18_19 = top_teams_18_19.fillna(0)\n",
    "top_teams_18_19"
   ]
  },
  {
   "cell_type": "markdown",
   "metadata": {},
   "source": [
    "## 4. The Perfect Team"
   ]
  },
  {
   "cell_type": "markdown",
   "metadata": {},
   "source": [
    "Taking the average amount per cluster of the top teams of the past 2 seasons, in order to find the perfect distribution of players in a team."
   ]
  },
  {
   "cell_type": "code",
   "execution_count": 11,
   "metadata": {},
   "outputs": [
    {
     "data": {
      "text/html": [
       "<div>\n",
       "<style scoped>\n",
       "    .dataframe tbody tr th:only-of-type {\n",
       "        vertical-align: middle;\n",
       "    }\n",
       "\n",
       "    .dataframe tbody tr th {\n",
       "        vertical-align: top;\n",
       "    }\n",
       "\n",
       "    .dataframe thead th {\n",
       "        text-align: right;\n",
       "    }\n",
       "</style>\n",
       "<table border=\"1\" class=\"dataframe\">\n",
       "  <thead>\n",
       "    <tr style=\"text-align: right;\">\n",
       "      <th>index</th>\n",
       "      <th>Attacking Facilitator</th>\n",
       "      <th>Def Driving Shot Creator</th>\n",
       "      <th>Dirty-Work</th>\n",
       "      <th>Facilitating/Midrange Big</th>\n",
       "      <th>Just_Big</th>\n",
       "      <th>Midrange Shooter</th>\n",
       "      <th>Rotational</th>\n",
       "      <th>Sharp-Shooting Big</th>\n",
       "      <th>Spot Up Facilitator</th>\n",
       "      <th>Spot Up Wing</th>\n",
       "    </tr>\n",
       "    <tr>\n",
       "      <th>Tm</th>\n",
       "      <th></th>\n",
       "      <th></th>\n",
       "      <th></th>\n",
       "      <th></th>\n",
       "      <th></th>\n",
       "      <th></th>\n",
       "      <th></th>\n",
       "      <th></th>\n",
       "      <th></th>\n",
       "      <th></th>\n",
       "    </tr>\n",
       "  </thead>\n",
       "  <tbody>\n",
       "    <tr>\n",
       "      <th>Perfect</th>\n",
       "      <td>2.0</td>\n",
       "      <td>0.0</td>\n",
       "      <td>0.0</td>\n",
       "      <td>1.0</td>\n",
       "      <td>1.0</td>\n",
       "      <td>2.0</td>\n",
       "      <td>1.0</td>\n",
       "      <td>1.0</td>\n",
       "      <td>2.0</td>\n",
       "      <td>3.0</td>\n",
       "    </tr>\n",
       "  </tbody>\n",
       "</table>\n",
       "</div>"
      ],
      "text/plain": [
       "index    Attacking Facilitator  Def Driving Shot Creator  Dirty-Work  \\\n",
       "Tm                                                                     \n",
       "Perfect                    2.0                       0.0         0.0   \n",
       "\n",
       "index    Facilitating/Midrange Big  Just_Big  Midrange Shooter  Rotational  \\\n",
       "Tm                                                                           \n",
       "Perfect                        1.0       1.0               2.0         1.0   \n",
       "\n",
       "index    Sharp-Shooting Big  Spot Up Facilitator  Spot Up Wing  \n",
       "Tm                                                              \n",
       "Perfect                 1.0                  2.0           3.0  "
      ]
     },
     "execution_count": 11,
     "metadata": {},
     "output_type": "execute_result"
    }
   ],
   "source": [
    "perfect_team = top_teams_18_19.mean().round()\n",
    "perfect_team = perfect_team.to_frame()\n",
    "perfect_team = perfect_team.rename(columns={0: \"count\"})\n",
    "perfect_team = perfect_team.reset_index()\n",
    "perfect_team['Tm'] = \"Perfect\"\n",
    "perfect_team = perfect_team.pivot(index = 'Tm', columns = 'index', values = 'count')\n",
    "perfect_team"
   ]
  },
  {
   "cell_type": "markdown",
   "metadata": {},
   "source": [
    "## 5. Comparing Test_Roster to perfect team"
   ]
  },
  {
   "cell_type": "code",
   "execution_count": 12,
   "metadata": {},
   "outputs": [],
   "source": [
    "DAL_19 = cluster_frame_19[cluster_frame_19['Tm'].isin(['DAL'])]\n",
    "DAL_cluster_19 = DAL_19.pivot(index = 'Tm', columns = 'Cluster_name', values = 'count')\n",
    "DAL_decision = pd.concat([perfect_team, DAL_cluster_19], axis=0)\n",
    "DAL_decision = DAL_decision.fillna(0)"
   ]
  },
  {
   "cell_type": "code",
   "execution_count": 13,
   "metadata": {},
   "outputs": [
    {
     "data": {
      "text/html": [
       "<div>\n",
       "<style scoped>\n",
       "    .dataframe tbody tr th:only-of-type {\n",
       "        vertical-align: middle;\n",
       "    }\n",
       "\n",
       "    .dataframe tbody tr th {\n",
       "        vertical-align: top;\n",
       "    }\n",
       "\n",
       "    .dataframe thead th {\n",
       "        text-align: right;\n",
       "    }\n",
       "</style>\n",
       "<table border=\"1\" class=\"dataframe\">\n",
       "  <thead>\n",
       "    <tr style=\"text-align: right;\">\n",
       "      <th></th>\n",
       "      <th>Attacking Facilitator</th>\n",
       "      <th>Def Driving Shot Creator</th>\n",
       "      <th>Dirty-Work</th>\n",
       "      <th>Facilitating/Midrange Big</th>\n",
       "      <th>Just_Big</th>\n",
       "      <th>Midrange Shooter</th>\n",
       "      <th>Rotational</th>\n",
       "      <th>Sharp-Shooting Big</th>\n",
       "      <th>Spot Up Facilitator</th>\n",
       "      <th>Spot Up Wing</th>\n",
       "    </tr>\n",
       "    <tr>\n",
       "      <th>Tm</th>\n",
       "      <th></th>\n",
       "      <th></th>\n",
       "      <th></th>\n",
       "      <th></th>\n",
       "      <th></th>\n",
       "      <th></th>\n",
       "      <th></th>\n",
       "      <th></th>\n",
       "      <th></th>\n",
       "      <th></th>\n",
       "    </tr>\n",
       "  </thead>\n",
       "  <tbody>\n",
       "    <tr>\n",
       "      <th>Perfect</th>\n",
       "      <td>2.0</td>\n",
       "      <td>0.0</td>\n",
       "      <td>0.0</td>\n",
       "      <td>1.0</td>\n",
       "      <td>1.0</td>\n",
       "      <td>2.0</td>\n",
       "      <td>1.0</td>\n",
       "      <td>1.0</td>\n",
       "      <td>2.0</td>\n",
       "      <td>3.0</td>\n",
       "    </tr>\n",
       "    <tr>\n",
       "      <th>DAL</th>\n",
       "      <td>1.0</td>\n",
       "      <td>1.0</td>\n",
       "      <td>0.0</td>\n",
       "      <td>0.0</td>\n",
       "      <td>1.0</td>\n",
       "      <td>3.0</td>\n",
       "      <td>1.0</td>\n",
       "      <td>2.0</td>\n",
       "      <td>2.0</td>\n",
       "      <td>3.0</td>\n",
       "    </tr>\n",
       "  </tbody>\n",
       "</table>\n",
       "</div>"
      ],
      "text/plain": [
       "         Attacking Facilitator  Def Driving Shot Creator  Dirty-Work  \\\n",
       "Tm                                                                     \n",
       "Perfect                    2.0                       0.0         0.0   \n",
       "DAL                        1.0                       1.0         0.0   \n",
       "\n",
       "         Facilitating/Midrange Big  Just_Big  Midrange Shooter  Rotational  \\\n",
       "Tm                                                                           \n",
       "Perfect                        1.0       1.0               2.0         1.0   \n",
       "DAL                            0.0       1.0               3.0         1.0   \n",
       "\n",
       "         Sharp-Shooting Big  Spot Up Facilitator  Spot Up Wing  \n",
       "Tm                                                              \n",
       "Perfect                 1.0                  2.0           3.0  \n",
       "DAL                     2.0                  2.0           3.0  "
      ]
     },
     "execution_count": 13,
     "metadata": {},
     "output_type": "execute_result"
    }
   ],
   "source": [
    "DAL_decision\n"
   ]
  },
  {
   "cell_type": "code",
   "execution_count": null,
   "metadata": {},
   "outputs": [],
   "source": []
  },
  {
   "cell_type": "code",
   "execution_count": null,
   "metadata": {},
   "outputs": [],
   "source": []
  },
  {
   "cell_type": "code",
   "execution_count": null,
   "metadata": {},
   "outputs": [],
   "source": []
  }
 ],
 "metadata": {
  "kernelspec": {
   "display_name": "Python 3",
   "language": "python",
   "name": "python3"
  },
  "language_info": {
   "codemirror_mode": {
    "name": "ipython",
    "version": 3
   },
   "file_extension": ".py",
   "mimetype": "text/x-python",
   "name": "python",
   "nbconvert_exporter": "python",
   "pygments_lexer": "ipython3",
   "version": "3.8.5"
  }
 },
 "nbformat": 4,
 "nbformat_minor": 4
}
